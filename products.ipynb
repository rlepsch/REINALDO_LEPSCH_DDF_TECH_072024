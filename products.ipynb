{
 "cells": [
  {
   "cell_type": "code",
   "execution_count": 1,
   "id": "935596ea",
   "metadata": {},
   "outputs": [],
   "source": [
    "import pandas as pd\n",
    "from sklearn.feature_extraction.text import TfidfVectorizer\n",
    "import json"
   ]
  },
  {
   "cell_type": "code",
   "execution_count": 2,
   "id": "6b29cfd8",
   "metadata": {},
   "outputs": [],
   "source": [
    "def copiar_primeiros_registros(input_file, output_file, num_records):\n",
    "    with open(input_file, 'r', encoding='utf-8') as infile, open(output_file, 'w', encoding='utf-8') as outfile:\n",
    "        for i, line in enumerate(infile):\n",
    "            if i < num_records:\n",
    "                outfile.write(line)\n",
    "            else:\n",
    "                break\n",
    "\n",
    "# Caminhos dos arquivos de entrada e saída\n",
    "input_file = 'corpus.jsonl'\n",
    "output_file = 'corpus_mini.jsonl'\n",
    "\n",
    "# Número de registros a serem copiados\n",
    "num_records = 10000\n",
    "\n",
    "# Executar a função de cópia\n",
    "copiar_primeiros_registros(input_file, output_file, num_records)\n"
   ]
  },
  {
   "cell_type": "code",
   "execution_count": 3,
   "id": "6efaf1a2",
   "metadata": {},
   "outputs": [],
   "source": [
    "# Carregar os dados JSON em um DataFrame\n",
    "#df = pd.read_json('corpus.jsonl',lines=True)\n",
    "df = pd.read_json('corpus_mini.jsonl',lines=True)"
   ]
  },
  {
   "cell_type": "code",
   "execution_count": 4,
   "id": "d46670e6",
   "metadata": {},
   "outputs": [],
   "source": [
    "# Pré-processamento: Limpeza de texto (opcional, dependendo do caso)\n",
    "def preprocess_text(text):\n",
    "    text = text.lower()  # Converter para minúsculas\n",
    "    # Adicionar outras etapas de limpeza se necessário (remoção de pontuação, stop words, etc.)\n",
    "    return text"
   ]
  },
  {
   "cell_type": "code",
   "execution_count": 5,
   "id": "9c46a121",
   "metadata": {},
   "outputs": [],
   "source": [
    "df['title'] = df['title'].apply(preprocess_text)\n",
    "df['text'] = df['text'].apply(preprocess_text)"
   ]
  },
  {
   "cell_type": "code",
   "execution_count": 6,
   "id": "181b89d4",
   "metadata": {},
   "outputs": [],
   "source": [
    "# Combinar título e descrição em um único campo\n",
    "df['combined'] = df['title'] + ' ' + df['text']\n",
    "\n",
    "# Geração de Features: Usar TF-IDF para transformar texto em features\n",
    "vectorizer = TfidfVectorizer()\n",
    "X = vectorizer.fit_transform(df['combined'])"
   ]
  },
  {
   "cell_type": "code",
   "execution_count": 7,
   "id": "bb9bb34b",
   "metadata": {},
   "outputs": [],
   "source": [
    "# Transformar a matriz TF-IDF em um DataFrame\n",
    "features = pd.DataFrame(X.toarray(), columns=vectorizer.get_feature_names_out())"
   ]
  },
  {
   "cell_type": "code",
   "execution_count": 8,
   "id": "3300a787",
   "metadata": {},
   "outputs": [],
   "source": [
    "# Adicionar as features ao DataFrame original\n",
    "df_features = pd.concat([df, features], axis=1)"
   ]
  },
  {
   "cell_type": "code",
   "execution_count": 9,
   "id": "40aef1e4",
   "metadata": {},
   "outputs": [
    {
     "name": "stdout",
     "output_type": "stream",
     "text": [
      "      docid                                              title  \\\n",
      "0         1  fyy leather case with mirror for samsung galax...   \n",
      "1         2  playtex women's 18 hour easy on, easy off fron...   \n",
      "2         4  yuepin u-tube clamp 304 stainless steel hose p...   \n",
      "3         5            bruce's big storm (mother bruce series)   \n",
      "4         6  dji shoulder neck strap belt sling lanyard nec...   \n",
      "...     ...                                                ...   \n",
      "9995  14926  rhino trunk & case camp & college trunk with r...   \n",
      "9996  14929       ajax triple action orange(414ml) (pack of 3)   \n",
      "9997  14930  tablet 10 inch android 10.0 yestel tablets 5g/...   \n",
      "9998  14931  fse robline white whipping twine kit w/ needle...   \n",
      "9999  14932  2pcs toothpaste whitening foam，citrus baking s...   \n",
      "\n",
      "                                                   text  \\\n",
      "0     product description premium pu leather top qua...   \n",
      "1     product description introducing playtex 18 hou...   \n",
      "2     product description specification: material: 3...   \n",
      "3      books children's books science, nature & how ...   \n",
      "4     product description specifications: item condi...   \n",
      "...                                                 ...   \n",
      "9995  from the brand rhino trunk & case trunks for y...   \n",
      "9996   health & household household supplies dishwas...   \n",
      "9997  product description about yestel: thank you fo...   \n",
      "9998  product description fse robline white whipping...   \n",
      "9999  product description toothpaste sensitive teeth...   \n",
      "\n",
      "                                               combined        00  000  0000  \\\n",
      "0     fyy leather case with mirror for samsung galax...  0.000000  0.0   0.0   \n",
      "1     playtex women's 18 hour easy on, easy off fron...  0.000000  0.0   0.0   \n",
      "2     yuepin u-tube clamp 304 stainless steel hose p...  0.000000  0.0   0.0   \n",
      "3     bruce's big storm (mother bruce series)  books...  0.000000  0.0   0.0   \n",
      "4     dji shoulder neck strap belt sling lanyard nec...  0.000000  0.0   0.0   \n",
      "...                                                 ...       ...  ...   ...   \n",
      "9995  rhino trunk & case camp & college trunk with r...  0.008966  0.0   0.0   \n",
      "9996  ajax triple action orange(414ml) (pack of 3)  ...  0.000000  0.0   0.0   \n",
      "9997  tablet 10 inch android 10.0 yestel tablets 5g/...  0.000000  0.0   0.0   \n",
      "9998  fse robline white whipping twine kit w/ needle...  0.000000  0.0   0.0   \n",
      "9999  2pcs toothpaste whitening foam，citrus baking s...  0.000000  0.0   0.0   \n",
      "\n",
      "      00000  000000  000000000  ...  𝘀𝘁𝗮𝗶𝗻𝗹𝗲𝘀𝘀  𝘢𝘭𝘭  𝘢𝘳𝘦   𝘪𝘯   𝘰𝘧  𝘴𝘦𝘵  \\\n",
      "0       0.0     0.0        0.0  ...        0.0  0.0  0.0  0.0  0.0  0.0   \n",
      "1       0.0     0.0        0.0  ...        0.0  0.0  0.0  0.0  0.0  0.0   \n",
      "2       0.0     0.0        0.0  ...        0.0  0.0  0.0  0.0  0.0  0.0   \n",
      "3       0.0     0.0        0.0  ...        0.0  0.0  0.0  0.0  0.0  0.0   \n",
      "4       0.0     0.0        0.0  ...        0.0  0.0  0.0  0.0  0.0  0.0   \n",
      "...     ...     ...        ...  ...        ...  ...  ...  ...  ...  ...   \n",
      "9995    0.0     0.0        0.0  ...        0.0  0.0  0.0  0.0  0.0  0.0   \n",
      "9996    0.0     0.0        0.0  ...        0.0  0.0  0.0  0.0  0.0  0.0   \n",
      "9997    0.0     0.0        0.0  ...        0.0  0.0  0.0  0.0  0.0  0.0   \n",
      "9998    0.0     0.0        0.0  ...        0.0  0.0  0.0  0.0  0.0  0.0   \n",
      "9999    0.0     0.0        0.0  ...        0.0  0.0  0.0  0.0  0.0  0.0   \n",
      "\n",
      "      𝘴𝘪𝘻𝘦𝘴   𝟭𝟲   𝟮𝟰  𝟯𝟭𝟲  \n",
      "0       0.0  0.0  0.0  0.0  \n",
      "1       0.0  0.0  0.0  0.0  \n",
      "2       0.0  0.0  0.0  0.0  \n",
      "3       0.0  0.0  0.0  0.0  \n",
      "4       0.0  0.0  0.0  0.0  \n",
      "...     ...  ...  ...  ...  \n",
      "9995    0.0  0.0  0.0  0.0  \n",
      "9996    0.0  0.0  0.0  0.0  \n",
      "9997    0.0  0.0  0.0  0.0  \n",
      "9998    0.0  0.0  0.0  0.0  \n",
      "9999    0.0  0.0  0.0  0.0  \n",
      "\n",
      "[10000 rows x 81749 columns]\n"
     ]
    }
   ],
   "source": [
    "# Exibir o DataFrame com as features geradas\n",
    "print(df_features)"
   ]
  },
  {
   "cell_type": "code",
   "execution_count": null,
   "id": "369baa93",
   "metadata": {},
   "outputs": [],
   "source": []
  }
 ],
 "metadata": {
  "kernelspec": {
   "display_name": "Python 3 (ipykernel)",
   "language": "python",
   "name": "python3"
  },
  "language_info": {
   "codemirror_mode": {
    "name": "ipython",
    "version": 3
   },
   "file_extension": ".py",
   "mimetype": "text/x-python",
   "name": "python",
   "nbconvert_exporter": "python",
   "pygments_lexer": "ipython3",
   "version": "3.11.4"
  }
 },
 "nbformat": 4,
 "nbformat_minor": 5
}
