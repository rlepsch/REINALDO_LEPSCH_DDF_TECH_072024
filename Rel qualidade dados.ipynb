{
 "cells": [
  {
   "cell_type": "code",
   "execution_count": 1,
   "id": "36dba7db",
   "metadata": {},
   "outputs": [],
   "source": [
    "import pandas as pd"
   ]
  },
  {
   "cell_type": "code",
   "execution_count": 4,
   "id": "e3c2d558",
   "metadata": {},
   "outputs": [],
   "source": [
    "def gerar_relatorio_qualidade(arquivo_csv):\n",
    "    # Ler o arquivo CSV\n",
    "    df = pd.read_csv(arquivo_csv)\n",
    "    \n",
    "    # excluir colunas NAME (não possui valor errado) e ORBITING BODY (mesmo valor para todas as linhas)\n",
    "    df = df.drop(columns=['name','orbiting_body'])\n",
    "    \n",
    "    # Inicializar o relatório\n",
    "    relatorio = {\n",
    "        \"coluna\": [],\n",
    "        \"itens_faltantes\": [],\n",
    "        \"itens_incorretos\": [],\n",
    "        \"maximo\": [],\n",
    "        \"minimo\": [],\n",
    "        \"media\": []\n",
    "    }\n",
    "    \n",
    "    # Iterar pelas colunas do DataFrame\n",
    "    for coluna in df.columns:\n",
    "        relatorio[\"coluna\"].append(coluna)\n",
    "        \n",
    "        # Contar itens faltantes\n",
    "        itens_faltantes = df[coluna].isna().sum()\n",
    "        relatorio[\"itens_faltantes\"].append(itens_faltantes)\n",
    "        \n",
    "        # Identificar itens incorretos\n",
    "        itens_incorretos = 0\n",
    "        if df[coluna].dtype == 'object':\n",
    "            itens_incorretos = df[coluna].apply(lambda x: not pd.api.types.is_numeric_dtype(type(x))).sum()\n",
    "        relatorio[\"itens_incorretos\"].append(itens_incorretos)\n",
    "        \n",
    "        # Calcular estatísticas básicas se for uma coluna numérica\n",
    "        if pd.api.types.is_numeric_dtype(df[coluna]):\n",
    "            maximo = df[coluna].max()\n",
    "            minimo = df[coluna].min()\n",
    "            media = df[coluna].mean()\n",
    "        else:\n",
    "            maximo = minimo = media = None\n",
    "        \n",
    "        relatorio[\"maximo\"].append(maximo)\n",
    "        relatorio[\"minimo\"].append(minimo)\n",
    "        relatorio[\"media\"].append(media)\n",
    "    \n",
    "    # Converter o relatório para um DataFrame\n",
    "    df_relatorio = pd.DataFrame(relatorio)\n",
    "    \n",
    "    return df_relatorio"
   ]
  },
  {
   "cell_type": "code",
   "execution_count": 5,
   "id": "a2c0244e",
   "metadata": {},
   "outputs": [
    {
     "name": "stdout",
     "output_type": "stream",
     "text": [
      "                   coluna  itens_faltantes  itens_incorretos           maximo  \\\n",
      "0                  neo_id                0                 0         54462807   \n",
      "1      absolute_magnitude               28                 0            33.58   \n",
      "2  estimated_diameter_min               28                 0        37.545248   \n",
      "3  estimated_diameter_max               28                 0        83.953727   \n",
      "4       relative_velocity                0                 0    291781.106613   \n",
      "5           miss_distance                0                 0  74798651.452197   \n",
      "6            is_hazardous                0                 0             True   \n",
      "\n",
      "        minimo         media  \n",
      "0      2000433  1.759939e+07  \n",
      "1         9.25  2.293252e+01  \n",
      "2     0.000511  1.578120e-01  \n",
      "3     0.001143  3.528785e-01  \n",
      "4   203.346433  5.106066e+04  \n",
      "5  6745.532516  4.153535e+07  \n",
      "6        False  1.276231e-01  \n"
     ]
    }
   ],
   "source": [
    "# Exemplo de uso\n",
    "arquivo_csv = 'nearest-earth-objects(1910-2024).csv'\n",
    "relatorio_qualidade = gerar_relatorio_qualidade(arquivo_csv)\n",
    "print(relatorio_qualidade)"
   ]
  },
  {
   "cell_type": "code",
   "execution_count": null,
   "id": "c3b5e296",
   "metadata": {},
   "outputs": [],
   "source": []
  }
 ],
 "metadata": {
  "kernelspec": {
   "display_name": "Python 3 (ipykernel)",
   "language": "python",
   "name": "python3"
  },
  "language_info": {
   "codemirror_mode": {
    "name": "ipython",
    "version": 3
   },
   "file_extension": ".py",
   "mimetype": "text/x-python",
   "name": "python",
   "nbconvert_exporter": "python",
   "pygments_lexer": "ipython3",
   "version": "3.11.4"
  }
 },
 "nbformat": 4,
 "nbformat_minor": 5
}
